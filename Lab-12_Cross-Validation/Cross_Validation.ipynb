{
 "cells": [
  {
   "cell_type": "markdown",
   "id": "4e73704b",
   "metadata": {},
   "source": [
    "Machine Learning Essentials : Lab 12 : Cross Validation \n",
    "    \n",
    "Name: Gaurav Pendharkar\n",
    "    \n",
    "Registration No.: 20BAI1153"
   ]
  },
  {
   "cell_type": "markdown",
   "id": "51f20731",
   "metadata": {},
   "source": [
    "# Importing the required modules"
   ]
  },
  {
   "cell_type": "code",
   "execution_count": 1,
   "id": "01f485ce",
   "metadata": {},
   "outputs": [],
   "source": [
    "import pandas as pd\n",
    "import numpy as np\n",
    "from sklearn.model_selection import KFold\n",
    "from sklearn.model_selection import cross_val_score\n",
    "from sklearn.neural_network import MLPClassifier\n",
    "from sklearn.tree import DecisionTreeClassifier"
   ]
  },
  {
   "cell_type": "markdown",
   "id": "22d57376",
   "metadata": {},
   "source": [
    "# Reading the dataset"
   ]
  },
  {
   "cell_type": "code",
   "execution_count": 2,
   "id": "ba81df7d",
   "metadata": {},
   "outputs": [],
   "source": [
    "df = pd.read_csv(\"./nasa.csv\")"
   ]
  },
  {
   "cell_type": "code",
   "execution_count": 3,
   "id": "7b663511",
   "metadata": {},
   "outputs": [
    {
     "name": "stdout",
     "output_type": "stream",
     "text": [
      "<class 'pandas.core.frame.DataFrame'>\n",
      "RangeIndex: 4687 entries, 0 to 4686\n",
      "Data columns (total 40 columns):\n",
      " #   Column                        Non-Null Count  Dtype  \n",
      "---  ------                        --------------  -----  \n",
      " 0   Neo Reference ID              4687 non-null   int64  \n",
      " 1   Name                          4687 non-null   int64  \n",
      " 2   Absolute Magnitude            4687 non-null   float64\n",
      " 3   Est Dia in KM(min)            4687 non-null   float64\n",
      " 4   Est Dia in KM(max)            4687 non-null   float64\n",
      " 5   Est Dia in M(min)             4687 non-null   float64\n",
      " 6   Est Dia in M(max)             4687 non-null   float64\n",
      " 7   Est Dia in Miles(min)         4687 non-null   float64\n",
      " 8   Est Dia in Miles(max)         4687 non-null   float64\n",
      " 9   Est Dia in Feet(min)          4687 non-null   float64\n",
      " 10  Est Dia in Feet(max)          4687 non-null   float64\n",
      " 11  Close Approach Date           4687 non-null   object \n",
      " 12  Epoch Date Close Approach     4687 non-null   int64  \n",
      " 13  Relative Velocity km per sec  4687 non-null   float64\n",
      " 14  Relative Velocity km per hr   4687 non-null   float64\n",
      " 15  Miles per hour                4687 non-null   float64\n",
      " 16  Miss Dist.(Astronomical)      4687 non-null   float64\n",
      " 17  Miss Dist.(lunar)             4687 non-null   float64\n",
      " 18  Miss Dist.(kilometers)        4687 non-null   float64\n",
      " 19  Miss Dist.(miles)             4687 non-null   float64\n",
      " 20  Orbiting Body                 4687 non-null   object \n",
      " 21  Orbit ID                      4687 non-null   int64  \n",
      " 22  Orbit Determination Date      4687 non-null   object \n",
      " 23  Orbit Uncertainity            4687 non-null   int64  \n",
      " 24  Minimum Orbit Intersection    4687 non-null   float64\n",
      " 25  Jupiter Tisserand Invariant   4687 non-null   float64\n",
      " 26  Epoch Osculation              4687 non-null   float64\n",
      " 27  Eccentricity                  4687 non-null   float64\n",
      " 28  Semi Major Axis               4687 non-null   float64\n",
      " 29  Inclination                   4687 non-null   float64\n",
      " 30  Asc Node Longitude            4687 non-null   float64\n",
      " 31  Orbital Period                4687 non-null   float64\n",
      " 32  Perihelion Distance           4687 non-null   float64\n",
      " 33  Perihelion Arg                4687 non-null   float64\n",
      " 34  Aphelion Dist                 4687 non-null   float64\n",
      " 35  Perihelion Time               4687 non-null   float64\n",
      " 36  Mean Anomaly                  4687 non-null   float64\n",
      " 37  Mean Motion                   4687 non-null   float64\n",
      " 38  Equinox                       4687 non-null   object \n",
      " 39  Hazardous                     4687 non-null   bool   \n",
      "dtypes: bool(1), float64(30), int64(5), object(4)\n",
      "memory usage: 1.4+ MB\n"
     ]
    }
   ],
   "source": [
    "df.info()"
   ]
  },
  {
   "cell_type": "code",
   "execution_count": 4,
   "id": "baa2ee38",
   "metadata": {},
   "outputs": [],
   "source": [
    "df = df.drop(list(df.columns)[0:2]+['Equinox','Close Approach Date','Orbit Determination Date','Orbit ID','Orbiting Body'],axis=1)"
   ]
  },
  {
   "cell_type": "markdown",
   "id": "fd33b45e",
   "metadata": {},
   "source": [
    "# Decision Trees"
   ]
  },
  {
   "cell_type": "code",
   "execution_count": 5,
   "id": "1af8a3f1",
   "metadata": {},
   "outputs": [],
   "source": [
    "clf = DecisionTreeClassifier()"
   ]
  },
  {
   "cell_type": "markdown",
   "id": "b4fc4393",
   "metadata": {},
   "source": [
    "## 5 Fold cross validation"
   ]
  },
  {
   "cell_type": "code",
   "execution_count": 6,
   "id": "bf5d7af7",
   "metadata": {},
   "outputs": [
    {
     "name": "stdout",
     "output_type": "stream",
     "text": [
      "[0.61513859 0.98827292 0.99573106 0.99466382 0.99679829]\n",
      "Avg : 0.9181209367099553\n"
     ]
    }
   ],
   "source": [
    "score_lr=cross_val_score(clf, df.drop([\"Hazardous\"],axis=1), df[\"Hazardous\"],cv=5)\n",
    "print(score_lr)\n",
    "print(\"Avg :\",np.average(score_lr))"
   ]
  },
  {
   "cell_type": "markdown",
   "id": "fbee38df",
   "metadata": {},
   "source": [
    "Here, we infer that the model is not performing well with one of the test train splits. Hence, the average accuracy of the model is reducing."
   ]
  },
  {
   "cell_type": "markdown",
   "id": "9ffef8e8",
   "metadata": {},
   "source": [
    "## 10 Fold cross validation"
   ]
  },
  {
   "cell_type": "code",
   "execution_count": 7,
   "id": "29124c7a",
   "metadata": {},
   "outputs": [
    {
     "name": "stdout",
     "output_type": "stream",
     "text": [
      "[0.9978678  0.99147122 0.99147122 0.99360341 0.99573561 0.9978678\n",
      " 0.99147122 0.9957265  1.         0.99786325]\n",
      "Avg : 0.9953078016510851\n"
     ]
    }
   ],
   "source": [
    "score_lr=cross_val_score(clf, df.drop([\"Hazardous\"],axis=1), df[\"Hazardous\"],cv=10)\n",
    "print(score_lr)\n",
    "print(\"Avg :\",np.average(score_lr))"
   ]
  },
  {
   "cell_type": "markdown",
   "id": "67044d2f",
   "metadata": {},
   "source": [
    "From 10 Fold cross validation is seems that the model performs well on the generated test train splits."
   ]
  },
  {
   "cell_type": "markdown",
   "id": "908f1862",
   "metadata": {},
   "source": [
    "# Neural Network"
   ]
  },
  {
   "cell_type": "markdown",
   "id": "d1809a88",
   "metadata": {},
   "source": [
    "# With default parameters"
   ]
  },
  {
   "cell_type": "code",
   "execution_count": 8,
   "id": "ed351b3d",
   "metadata": {},
   "outputs": [],
   "source": [
    "mlp = MLPClassifier()"
   ]
  },
  {
   "cell_type": "markdown",
   "id": "e27f8ef3",
   "metadata": {},
   "source": [
    "## 5 Fold cross validation"
   ]
  },
  {
   "cell_type": "code",
   "execution_count": 9,
   "id": "c5b3282f",
   "metadata": {
    "scrolled": true
   },
   "outputs": [
    {
     "name": "stdout",
     "output_type": "stream",
     "text": [
      "[0.83901919 0.83901919 0.83884739 0.83884739 0.83884739]\n",
      "Avg : 0.8389161070694705\n"
     ]
    }
   ],
   "source": [
    "score_lr=cross_val_score(mlp, df.drop([\"Hazardous\"],axis=1), df[\"Hazardous\"],cv=5)\n",
    "print(score_lr)\n",
    "print(\"Avg :\",np.average(score_lr))"
   ]
  },
  {
   "cell_type": "markdown",
   "id": "a8a424ac",
   "metadata": {},
   "source": [
    "After 5 fold cross validation, we can observe that the performance of the model on the chosen splits of the dataset has not much variation in it."
   ]
  },
  {
   "cell_type": "markdown",
   "id": "d41044f9",
   "metadata": {},
   "source": [
    "## 10 Fold cross validation"
   ]
  },
  {
   "cell_type": "code",
   "execution_count": 10,
   "id": "d5254d1c",
   "metadata": {},
   "outputs": [
    {
     "name": "stdout",
     "output_type": "stream",
     "text": [
      "[0.16204691 0.83795309 0.83795309 0.83795309 0.83795309 0.84008529\n",
      " 0.84008529 0.83974359 0.83974359 0.83974359]\n",
      "Avg : 0.7713260619977037\n"
     ]
    }
   ],
   "source": [
    "score_lr=cross_val_score(mlp, df.drop([\"Hazardous\"],axis=1), df[\"Hazardous\"],cv=10)\n",
    "print(score_lr)\n",
    "print(\"Avg :\",np.average(score_lr))"
   ]
  },
  {
   "cell_type": "markdown",
   "id": "8a4d7f81",
   "metadata": {},
   "source": [
    "From 10-Fold cross validation, we can observe that for some train train splits the model is not performing well, hence we can try early_stopping. "
   ]
  },
  {
   "cell_type": "markdown",
   "id": "34de0b16",
   "metadata": {},
   "source": [
    "# With Early Stopping"
   ]
  },
  {
   "cell_type": "code",
   "execution_count": 11,
   "id": "de276f81",
   "metadata": {},
   "outputs": [],
   "source": [
    "mlp = MLPClassifier(early_stopping = True)"
   ]
  },
  {
   "cell_type": "markdown",
   "id": "5b0f4085",
   "metadata": {},
   "source": [
    "## 5 Fold Cross Validation"
   ]
  },
  {
   "cell_type": "code",
   "execution_count": 12,
   "id": "2aa06b9a",
   "metadata": {},
   "outputs": [
    {
     "name": "stdout",
     "output_type": "stream",
     "text": [
      "[0.83901919 0.83901919 0.83884739 0.83884739 0.83884739]\n",
      "Avg : 0.8389161070694705\n"
     ]
    }
   ],
   "source": [
    "score_lr=cross_val_score(mlp, df.drop([\"Hazardous\"],axis=1), df[\"Hazardous\"],cv=5)\n",
    "print(score_lr)\n",
    "print(\"Avg :\",np.average(score_lr))"
   ]
  },
  {
   "cell_type": "markdown",
   "id": "a2268c76",
   "metadata": {},
   "source": [
    "There is not much of variation is the accuracy with 5 fold validations"
   ]
  },
  {
   "cell_type": "markdown",
   "id": "1332b67c",
   "metadata": {},
   "source": [
    "## 10 Fold Cross Validation"
   ]
  },
  {
   "cell_type": "code",
   "execution_count": 13,
   "id": "e97459df",
   "metadata": {},
   "outputs": [
    {
     "name": "stdout",
     "output_type": "stream",
     "text": [
      "[0.83795309 0.83795309 0.83795309 0.83795309 0.83795309 0.84008529\n",
      " 0.84008529 0.83974359 0.83974359 0.83974359]\n",
      "Avg : 0.8389166803345907\n"
     ]
    }
   ],
   "source": [
    "score_lr=cross_val_score(mlp, df.drop([\"Hazardous\"],axis=1), df[\"Hazardous\"],cv=10)\n",
    "print(score_lr)\n",
    "print(\"Avg :\",np.average(score_lr))"
   ]
  },
  {
   "cell_type": "markdown",
   "id": "8e472bbf",
   "metadata": {},
   "source": [
    "In 10 fold cross validation, also there is not much variation in the results."
   ]
  },
  {
   "cell_type": "markdown",
   "id": "4996e3ba",
   "metadata": {},
   "source": [
    "With respect to the obtained results, a decision tree model is giving better average accuracy in both folds however the multilayer perceptron is giving a much more stable accuracy for both the splits."
   ]
  }
 ],
 "metadata": {
  "kernelspec": {
   "display_name": "Python 3 (ipykernel)",
   "language": "python",
   "name": "python3"
  },
  "language_info": {
   "codemirror_mode": {
    "name": "ipython",
    "version": 3
   },
   "file_extension": ".py",
   "mimetype": "text/x-python",
   "name": "python",
   "nbconvert_exporter": "python",
   "pygments_lexer": "ipython3",
   "version": "3.9.7"
  }
 },
 "nbformat": 4,
 "nbformat_minor": 5
}
