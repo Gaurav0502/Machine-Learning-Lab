{
  "cells": [
    {
      "cell_type": "markdown",
      "metadata": {},
      "source": [
        "# Question"
      ]
    },
    {
      "cell_type": "markdown",
      "metadata": {
        "id": "G-DaEyVMhsUv"
      },
      "source": [
        "Lab 1 : Simple Linear Regression\n",
        "\n",
        "Choose any dataset and find the following:\n",
        "\n",
        "\n",
        "1.   Regression Line.\n",
        "2.   Plotting the Regression Line.\n",
        "3.   Finding the residuals.\n",
        "4.   Plotting the residuals.\n",
        "\n",
        "Constraint: Should not use any in-built functions for Regression and Statistical parameters.\n"
      ]
    },
    {
      "cell_type": "markdown",
      "metadata": {},
      "source": [
        "# Importing the required modules"
      ]
    },
    {
      "cell_type": "code",
      "execution_count": 23,
      "metadata": {
        "id": "0bebIsbYh96c"
      },
      "outputs": [],
      "source": [
        "import math as m\n",
        "import pandas as pd\n",
        "import numpy as np\n",
        "import matplotlib.pyplot as plt"
      ]
    },
    {
      "cell_type": "markdown",
      "metadata": {},
      "source": [
        "# Reading the dataset"
      ]
    },
    {
      "cell_type": "code",
      "execution_count": 24,
      "metadata": {
        "id": "ZKR6N7pGq7BI"
      },
      "outputs": [],
      "source": [
        "#Reading the dataset.\n",
        "df = pd.read_csv(r\"C:\\Users\\mitug\\Machine-Learning-Lab\\Lab-1_Simple_Linear_Regression\\Salary_Dataset.csv\")"
      ]
    },
    {
      "cell_type": "code",
      "execution_count": 25,
      "metadata": {
        "colab": {
          "base_uri": "https://localhost:8080/",
          "height": 206
        },
        "id": "hxQR32QjrUCY",
        "outputId": "d1b001b7-fdcf-47ba-ad27-160ae9422ffb"
      },
      "outputs": [
        {
          "data": {
            "text/html": [
              "<div>\n",
              "<style scoped>\n",
              "    .dataframe tbody tr th:only-of-type {\n",
              "        vertical-align: middle;\n",
              "    }\n",
              "\n",
              "    .dataframe tbody tr th {\n",
              "        vertical-align: top;\n",
              "    }\n",
              "\n",
              "    .dataframe thead th {\n",
              "        text-align: right;\n",
              "    }\n",
              "</style>\n",
              "<table border=\"1\" class=\"dataframe\">\n",
              "  <thead>\n",
              "    <tr style=\"text-align: right;\">\n",
              "      <th></th>\n",
              "      <th>YearsExperience</th>\n",
              "      <th>Salary</th>\n",
              "    </tr>\n",
              "  </thead>\n",
              "  <tbody>\n",
              "    <tr>\n",
              "      <th>0</th>\n",
              "      <td>1.1</td>\n",
              "      <td>39343</td>\n",
              "    </tr>\n",
              "    <tr>\n",
              "      <th>1</th>\n",
              "      <td>1.3</td>\n",
              "      <td>46205</td>\n",
              "    </tr>\n",
              "    <tr>\n",
              "      <th>2</th>\n",
              "      <td>1.5</td>\n",
              "      <td>37731</td>\n",
              "    </tr>\n",
              "    <tr>\n",
              "      <th>3</th>\n",
              "      <td>2.0</td>\n",
              "      <td>43525</td>\n",
              "    </tr>\n",
              "    <tr>\n",
              "      <th>4</th>\n",
              "      <td>2.2</td>\n",
              "      <td>39891</td>\n",
              "    </tr>\n",
              "  </tbody>\n",
              "</table>\n",
              "</div>"
            ],
            "text/plain": [
              "   YearsExperience  Salary\n",
              "0              1.1   39343\n",
              "1              1.3   46205\n",
              "2              1.5   37731\n",
              "3              2.0   43525\n",
              "4              2.2   39891"
            ]
          },
          "execution_count": 25,
          "metadata": {},
          "output_type": "execute_result"
        }
      ],
      "source": [
        "#Displaying the first 5 rows.\n",
        "df.head()"
      ]
    },
    {
      "cell_type": "markdown",
      "metadata": {
        "id": "XFLcQBqWjFAM"
      },
      "source": [
        "# Calculating the Regression Line"
      ]
    },
    {
      "cell_type": "markdown",
      "metadata": {},
      "source": [
        "## A function to calculate the sum of an iterable"
      ]
    },
    {
      "cell_type": "code",
      "execution_count": 26,
      "metadata": {
        "id": "2NbbCqKjLDfa"
      },
      "outputs": [],
      "source": [
        "#Finding the sum of the values in the iterable x.\n",
        "def summation(x):\n",
        "  sm = 0\n",
        "  for i in x:\n",
        "    sm = sm + i\n",
        "  return sm"
      ]
    },
    {
      "cell_type": "markdown",
      "metadata": {},
      "source": [
        "## A function to calculate the average of an iterable"
      ]
    },
    {
      "cell_type": "code",
      "execution_count": 27,
      "metadata": {
        "id": "TBbHEo3sLTFa"
      },
      "outputs": [],
      "source": [
        "#Finding the average of the values in the iterable x.\n",
        "def average(x):\n",
        "  xbar = summation(x)/len(x)\n",
        "  return xbar"
      ]
    },
    {
      "cell_type": "markdown",
      "metadata": {},
      "source": [
        "In Simple Linear Regression we have a independent variable denoted by 'x' and a dependent variable(also known as the target variable) denoted by 'y'. Here, we approximate the extent of relationship between y and x by computing a statistical parameter called as Correlation Co-efficient.\n",
        "<br>\n",
        "                                                    y = mx + c\n",
        "                                                    <br>\n",
        "where:\n",
        "m : Slope of the line : However, in statistical terms it resembles rate at which y changes w.r.t x.\n",
        "c : Y-intercept of the line : The point where this regression line meets the Y-axis.\n"
      ]
    },
    {
      "cell_type": "markdown",
      "metadata": {},
      "source": [
        "## Computing the essentials parameters"
      ]
    },
    {
      "cell_type": "markdown",
      "metadata": {},
      "source": [
        "To compute 'm' and 'c', we need few essential parameters as follows:\n",
        "1. Σx : Summation of x.\n",
        "2. Σy : Summation of y.\n",
        "3. Σx<sup>2</sup> : Summation of x<sup>2</sup>\n",
        "4. Σy<sup>2</sup> : Summation of y<sup>2</sup>\n",
        "5. Σxy : Summation of xy\n",
        "6. $\\bar{x}$ : Mean of x\n",
        "7. $\\bar{y}$ : Mean of y\n",
        "8. N : No.of observations in the dataset."
      ]
    },
    {
      "cell_type": "code",
      "execution_count": 28,
      "metadata": {
        "id": "phWbEfFbrgZh"
      },
      "outputs": [],
      "source": [
        "X = df[\"YearsExperience\"]\n",
        "Y = df[\"Salary\"]\n",
        "N = len(X)\n",
        "Xsum = summation(X)\n",
        "Ysum = summation(Y)\n",
        "Xbar = average(X)\n",
        "Ybar = average(Y)\n",
        "X2sum = summation(X*X)\n",
        "Y2sum = summation(Y*Y)\n",
        "XYsum = summation(X*Y)"
      ]
    },
    {
      "cell_type": "code",
      "execution_count": 29,
      "metadata": {
        "colab": {
          "base_uri": "https://localhost:8080/"
        },
        "id": "e0YQu3Znt70O",
        "outputId": "48a3a545-ae04-4c79-d7c4-eda5b6aea9e5"
      },
      "outputs": [
        {
          "name": "stdout",
          "output_type": "stream",
          "text": [
            "159.4 2280090 5.3133333333333335 76003.0 1080.5 195088658122 14321961.0\n"
          ]
        }
      ],
      "source": [
        "print(Xsum,Ysum,Xbar,Ybar,X2sum,Y2sum,XYsum)"
      ]
    },
    {
      "cell_type": "markdown",
      "metadata": {},
      "source": [
        "## Computing the Slope of Line"
      ]
    },
    {
      "cell_type": "markdown",
      "metadata": {},
      "source": [
        "The slope was computed using the below formula:\n",
        "<br>\n",
        "a = $\\frac{(N*\\sum XY-\\sum X*\\sum Y)}{(N*\\sum X^{2}- \\sum X**2)}$"
      ]
    },
    {
      "cell_type": "code",
      "execution_count": 30,
      "metadata": {
        "colab": {
          "base_uri": "https://localhost:8080/"
        },
        "id": "1MLLadTnMzXJ",
        "outputId": "c5e30412-c9a3-4ca7-c7cb-f6a79bd5ca4a"
      },
      "outputs": [
        {
          "data": {
            "text/plain": [
              "9449.962321455077"
            ]
          },
          "execution_count": 30,
          "metadata": {},
          "output_type": "execute_result"
        }
      ],
      "source": [
        "a = (N*XYsum - Xsum*Ysum)/(N*X2sum - Xsum**2)\n",
        "a"
      ]
    },
    {
      "cell_type": "markdown",
      "metadata": {},
      "source": [
        "## Computing the y-intercept of the regression line"
      ]
    },
    {
      "cell_type": "markdown",
      "metadata": {},
      "source": [
        "The y-intercept was calculated using the formula:\n",
        "<br>\n",
        "b = $\\bar{y}-a*\\bar{x}$"
      ]
    },
    {
      "cell_type": "code",
      "execution_count": 31,
      "metadata": {
        "id": "MojM5EG6NmxR"
      },
      "outputs": [
        {
          "data": {
            "text/plain": [
              "25792.20019866869"
            ]
          },
          "execution_count": 31,
          "metadata": {},
          "output_type": "execute_result"
        }
      ],
      "source": [
        "b = Ybar - a*Xbar\n",
        "b"
      ]
    },
    {
      "cell_type": "markdown",
      "metadata": {
        "id": "6-zSC076jNlt"
      },
      "source": [
        "# Plotting the Regression Line"
      ]
    },
    {
      "cell_type": "code",
      "execution_count": 32,
      "metadata": {
        "colab": {
          "base_uri": "https://localhost:8080/",
          "height": 0
        },
        "id": "6VtTKw-Tt81R",
        "outputId": "742e49c8-4543-4fb9-e230-fb3d4efc01fa"
      },
      "outputs": [
        {
          "data": {
            "image/png": "[encoded data removed]",
            "text/plain": [
              "<Figure size 720x720 with 1 Axes>"
            ]
          },
          "metadata": {
            "needs_background": "light"
          },
          "output_type": "display_data"
        }
      ],
      "source": [
        "x = np.linspace(1,12)\n",
        "y = a*x+b\n",
        "plt.figure(figsize=(10,10))\n",
        "for i in range(len(df)):\n",
        "  plt.scatter(df['YearsExperience'][i],df['Salary'][i],c=['blue'])\n",
        "plt.plot(x, y, '-r', label='y=f(x)')\n",
        "plt.title('Regression Line of Salary of Employee v/s Experience of the Employee')\n",
        "plt.xlabel('Years of Experience')\n",
        "plt.ylabel('Salary of the Employee')\n",
        "plt.grid()\n",
        "plt.show()"
      ]
    },
    {
      "cell_type": "markdown",
      "metadata": {
        "id": "rGN8PmBYjXRU"
      },
      "source": [
        "# Finding the residual"
      ]
    },
    {
      "cell_type": "markdown",
      "metadata": {},
      "source": [
        "The residuals are computed using the given formula:\n",
        "Residual Salary = Observed Salary - Predicted Salary"
      ]
    },
    {
      "cell_type": "code",
      "execution_count": 33,
      "metadata": {
        "id": "-EnNcZ9kTl4Q"
      },
      "outputs": [],
      "source": [
        "residual = df['Salary'].copy()\n",
        "for i in range(len(df)):\n",
        "    residual[i] = df['Salary'][i] - (a*(df['YearsExperience'][i]) + b)"
      ]
    },
    {
      "cell_type": "code",
      "execution_count": 34,
      "metadata": {
        "colab": {
          "base_uri": "https://localhost:8080/"
        },
        "id": "XMXg0ymhjoGi",
        "outputId": "f5fd0d20-de52-43fc-9320-930695674386"
      },
      "outputs": [
        {
          "data": {
            "text/plain": [
              "0      3155\n",
              "1      8127\n",
              "2     -2236\n",
              "3     -1167\n",
              "4     -6691\n",
              "5      3444\n",
              "6      6007\n",
              "7     -1587\n",
              "8      8412\n",
              "9     -3568\n",
              "10      570\n",
              "11    -7798\n",
              "12    -6635\n",
              "13    -7456\n",
              "14    -7206\n",
              "15    -4159\n",
              "16    -7958\n",
              "17     7210\n",
              "18     -183\n",
              "19    11448\n",
              "20     1686\n",
              "21     5386\n",
              "22      855\n",
              "23    10530\n",
              "24     1424\n",
              "25    -5259\n",
              "26     1402\n",
              "27    -3876\n",
              "28     -735\n",
              "29    -3144\n",
              "Name: Salary, dtype: int64"
            ]
          },
          "execution_count": 34,
          "metadata": {},
          "output_type": "execute_result"
        }
      ],
      "source": [
        "residual"
      ]
    },
    {
      "cell_type": "markdown",
      "metadata": {
        "id": "8FX1kambk5D4"
      },
      "source": [
        "# Plotting the residuals"
      ]
    },
    {
      "cell_type": "code",
      "execution_count": 35,
      "metadata": {
        "colab": {
          "base_uri": "https://localhost:8080/",
          "height": 0
        },
        "id": "g2EjTdbwkaHh",
        "outputId": "ae38435c-07dc-4950-ff87-3f0ddffdcdba"
      },
      "outputs": [
        {
          "data": {
            "image/png": "[encoded data removed]",
            "text/plain": [
              "<Figure size 432x288 with 1 Axes>"
            ]
          },
          "metadata": {
            "needs_background": "light"
          },
          "output_type": "display_data"
        }
      ],
      "source": [
        "for i in range(len(residual)):\n",
        "  plt.scatter(df['YearsExperience'][i],residual[i],c=['orange'])\n",
        "plt.axhline(y = 0, color = 'k', linestyle = 'dotted')\n",
        "plt.show()"
      ]
    },
    {
      "cell_type": "code",
      "execution_count": 39,
      "metadata": {},
      "outputs": [
        {
          "data": {
            "text/plain": [
              "-2"
            ]
          },
          "execution_count": 39,
          "metadata": {},
          "output_type": "execute_result"
        }
      ],
      "source": [
        "sum(residual)"
      ]
    },
    {
      "cell_type": "code",
      "execution_count": 40,
      "metadata": {},
      "outputs": [
        {
          "data": {
            "text/plain": [
              "-0.06666666666666667"
            ]
          },
          "execution_count": 40,
          "metadata": {},
          "output_type": "execute_result"
        }
      ],
      "source": [
        "average(residual)"
      ]
    },
    {
      "cell_type": "markdown",
      "metadata": {},
      "source": [
        "Inferences from the Residual Plot:\n",
        "- This model is a good fit owing to the following reasons:\n",
        "  1. The sum of residuals is insignificant compared to the range of residuals.\n",
        "  2. The mean of residuals is very close to zero.\n",
        "  3. The points are dispersed throughout the model with a higher density towards y = 0 .\n",
        "- The plot is slightly symmetric about y = 0 ."
      ]
    }
  ],
  "metadata": {
    "colab": {
      "collapsed_sections": [],
      "name": "Lab-1-CSE1015-Simple_Linear_Regression.ipynb",
      "provenance": []
    },
    "kernelspec": {
      "display_name": "Python 3",
      "name": "python3"
    },
    "language_info": {
      "codemirror_mode": {
        "name": "ipython",
        "version": 3
      },
      "file_extension": ".py",
      "mimetype": "text/x-python",
      "name": "python",
      "nbconvert_exporter": "python",
      "pygments_lexer": "ipython3",
      "version": "3.9.1"
    }
  },
  "nbformat": 4,
  "nbformat_minor": 0
}
