{
  "cells": [
    {
      "cell_type": "markdown",
      "metadata": {},
      "source": [
        "# Question"
      ]
    },
    {
      "cell_type": "markdown",
      "metadata": {
        "id": "G-DaEyVMhsUv"
      },
      "source": [
        "Lab 1 : Simple Linear Regression\n",
        "\n",
        "Choose any dataset and find the following:\n",
        "\n",
        "\n",
        "1.   Regression Line.\n",
        "2.   Plotting the Regression Line.\n",
        "3.   Finding the residuals.\n",
        "4.   Plotting the residuals.\n",
        "\n",
        "Constraint: Should not use any in-built functions for Regression and Statistical parameters.\n"
      ]
    },
    {
      "cell_type": "markdown",
      "metadata": {},
      "source": [
        "# Importing the required modules"
      ]
    },
    {
      "cell_type": "code",
      "execution_count": 4,
      "metadata": {
        "id": "0bebIsbYh96c"
      },
      "outputs": [],
      "source": [
        "import math as m\n",
        "import pandas as pd\n",
        "import numpy as np"
      ]
    },
    {
      "cell_type": "markdown",
      "metadata": {},
      "source": [
        "# Reading the dataset"
      ]
    },
    {
      "cell_type": "code",
      "execution_count": 5,
      "metadata": {
        "id": "ZKR6N7pGq7BI"
      },
      "outputs": [],
      "source": [
        "#Reading the dataset.\n",
        "df = pd.read_csv(r\"C:\\Users\\mitug\\Machine-Learning-Lab\\Lab-1_Simple_Linear_Regression\\Salary_Dataset.csv\")"
      ]
    },
    {
      "cell_type": "code",
      "execution_count": 6,
      "metadata": {
        "colab": {
          "base_uri": "https://localhost:8080/",
          "height": 206
        },
        "id": "hxQR32QjrUCY",
        "outputId": "d1b001b7-fdcf-47ba-ad27-160ae9422ffb"
      },
      "outputs": [
        {
          "data": {
            "text/html": [
              "<div>\n",
              "<style scoped>\n",
              "    .dataframe tbody tr th:only-of-type {\n",
              "        vertical-align: middle;\n",
              "    }\n",
              "\n",
              "    .dataframe tbody tr th {\n",
              "        vertical-align: top;\n",
              "    }\n",
              "\n",
              "    .dataframe thead th {\n",
              "        text-align: right;\n",
              "    }\n",
              "</style>\n",
              "<table border=\"1\" class=\"dataframe\">\n",
              "  <thead>\n",
              "    <tr style=\"text-align: right;\">\n",
              "      <th></th>\n",
              "      <th>YearsExperience</th>\n",
              "      <th>Salary</th>\n",
              "    </tr>\n",
              "  </thead>\n",
              "  <tbody>\n",
              "    <tr>\n",
              "      <th>0</th>\n",
              "      <td>1.1</td>\n",
              "      <td>39343</td>\n",
              "    </tr>\n",
              "    <tr>\n",
              "      <th>1</th>\n",
              "      <td>1.3</td>\n",
              "      <td>46205</td>\n",
              "    </tr>\n",
              "    <tr>\n",
              "      <th>2</th>\n",
              "      <td>1.5</td>\n",
              "      <td>37731</td>\n",
              "    </tr>\n",
              "    <tr>\n",
              "      <th>3</th>\n",
              "      <td>2.0</td>\n",
              "      <td>43525</td>\n",
              "    </tr>\n",
              "    <tr>\n",
              "      <th>4</th>\n",
              "      <td>2.2</td>\n",
              "      <td>39891</td>\n",
              "    </tr>\n",
              "  </tbody>\n",
              "</table>\n",
              "</div>"
            ],
            "text/plain": [
              "   YearsExperience  Salary\n",
              "0              1.1   39343\n",
              "1              1.3   46205\n",
              "2              1.5   37731\n",
              "3              2.0   43525\n",
              "4              2.2   39891"
            ]
          },
          "execution_count": 6,
          "metadata": {},
          "output_type": "execute_result"
        }
      ],
      "source": [
        "df.head()"
      ]
    },
    {
      "cell_type": "markdown",
      "metadata": {
        "id": "XFLcQBqWjFAM"
      },
      "source": [
        "# Calculating the Regression Line"
      ]
    },
    {
      "cell_type": "markdown",
      "metadata": {},
      "source": [
        "## A function to calculate the sum of an iterable"
      ]
    },
    {
      "cell_type": "code",
      "execution_count": 7,
      "metadata": {
        "id": "2NbbCqKjLDfa"
      },
      "outputs": [],
      "source": [
        "#Finding the sum of the values.\n",
        "def summation(x):\n",
        "  sm = 0\n",
        "  for i in x:\n",
        "    sm = sm + i\n",
        "  return sm"
      ]
    },
    {
      "cell_type": "markdown",
      "metadata": {},
      "source": [
        "## A function to calculate the average of an iterable"
      ]
    },
    {
      "cell_type": "code",
      "execution_count": 8,
      "metadata": {
        "id": "TBbHEo3sLTFa"
      },
      "outputs": [],
      "source": [
        "#Finding the average of the values\n",
        "def average(x):\n",
        "  xbar = summation(x)/len(x)\n",
        "  return xbar"
      ]
    },
    {
      "cell_type": "markdown",
      "metadata": {},
      "source": [
        "## Computing the essentials parameters"
      ]
    },
    {
      "cell_type": "code",
      "execution_count": 9,
      "metadata": {
        "id": "phWbEfFbrgZh"
      },
      "outputs": [],
      "source": [
        "X = df[\"YearsExperience\"]\n",
        "Y = df[\"Salary\"]\n",
        "Xsum = summation(X)\n",
        "Ysum = summation(Y)\n",
        "Xbar = average(X)\n",
        "Ybar = average(Y)\n",
        "X2sum = summation(X*X)\n",
        "Y2sum = summation(Y*Y)\n",
        "XYsum = summation(X*Y)"
      ]
    },
    {
      "cell_type": "code",
      "execution_count": 10,
      "metadata": {
        "colab": {
          "base_uri": "https://localhost:8080/"
        },
        "id": "e0YQu3Znt70O",
        "outputId": "48a3a545-ae04-4c79-d7c4-eda5b6aea9e5"
      },
      "outputs": [
        {
          "name": "stdout",
          "output_type": "stream",
          "text": [
            "159.4 2280090 5.3133333333333335 76003.0 1080.5 195088658122 14321961.0\n"
          ]
        }
      ],
      "source": [
        "print(Xsum,Ysum,Xbar,Ybar,X2sum,Y2sum,XYsum)"
      ]
    },
    {
      "cell_type": "markdown",
      "metadata": {},
      "source": [
        "## Computing the co-efficient of regression"
      ]
    },
    {
      "cell_type": "code",
      "execution_count": 11,
      "metadata": {
        "colab": {
          "base_uri": "https://localhost:8080/"
        },
        "id": "1MLLadTnMzXJ",
        "outputId": "c5e30412-c9a3-4ca7-c7cb-f6a79bd5ca4a"
      },
      "outputs": [
        {
          "data": {
            "text/plain": [
              "9449.962321455081"
            ]
          },
          "execution_count": 11,
          "metadata": {},
          "output_type": "execute_result"
        }
      ],
      "source": [
        "a = (XYsum - Xsum*Ysum/len(X))/(X2sum - Xsum**2/len(X))\n",
        "a"
      ]
    },
    {
      "cell_type": "markdown",
      "metadata": {},
      "source": [
        "## Computing the y-intercept of the regression line"
      ]
    },
    {
      "cell_type": "code",
      "execution_count": 12,
      "metadata": {
        "id": "MojM5EG6NmxR"
      },
      "outputs": [],
      "source": [
        "b = Ybar - a*Xbar"
      ]
    },
    {
      "cell_type": "markdown",
      "metadata": {
        "id": "6-zSC076jNlt"
      },
      "source": [
        "# Plotting the Regression Line"
      ]
    },
    {
      "cell_type": "code",
      "execution_count": 13,
      "metadata": {
        "colab": {
          "base_uri": "https://localhost:8080/",
          "height": 0
        },
        "id": "6VtTKw-Tt81R",
        "outputId": "742e49c8-4543-4fb9-e230-fb3d4efc01fa"
      },
      "outputs": [
        {
          "data": {
            "image/png": "[encoded data removed]",
            "text/plain": [
              "<Figure size 432x288 with 1 Axes>"
            ]
          },
          "metadata": {
            "needs_background": "light"
          },
          "output_type": "display_data"
        }
      ],
      "source": [
        "import matplotlib.pyplot as plt\n",
        "import numpy as np\n",
        "x = np.linspace(1,12)\n",
        "y = a*x+b\n",
        "for i in range(len(df)):\n",
        "  plt.scatter(df['YearsExperience'][i],df['Salary'][i],c=['blue'])\n",
        "plt.plot(x, y, '-r', label='y=f(x)')\n",
        "plt.title('Graph of y=f(x)')\n",
        "plt.xlabel('x', color='#1C2833')\n",
        "plt.ylabel('y', color='#1C2833')\n",
        "plt.grid()\n",
        "plt.show()"
      ]
    },
    {
      "cell_type": "markdown",
      "metadata": {
        "id": "rGN8PmBYjXRU"
      },
      "source": [
        "# Finding the residual"
      ]
    },
    {
      "cell_type": "code",
      "execution_count": 14,
      "metadata": {
        "id": "-EnNcZ9kTl4Q"
      },
      "outputs": [],
      "source": [
        "residual = df['Salary'].copy()\n",
        "for i in range(len(df)):\n",
        "    residual[i] = df['Salary'][i] - a*(df['YearsExperience'][i]) - b"
      ]
    },
    {
      "cell_type": "code",
      "execution_count": 15,
      "metadata": {
        "colab": {
          "base_uri": "https://localhost:8080/"
        },
        "id": "XMXg0ymhjoGi",
        "outputId": "f5fd0d20-de52-43fc-9320-930695674386"
      },
      "outputs": [
        {
          "data": {
            "text/plain": [
              "0      3155\n",
              "1      8127\n",
              "2     -2236\n",
              "3     -1167\n",
              "4     -6691\n",
              "5      3444\n",
              "6      6007\n",
              "7     -1587\n",
              "8      8412\n",
              "9     -3568\n",
              "10      570\n",
              "11    -7798\n",
              "12    -6635\n",
              "13    -7456\n",
              "14    -7206\n",
              "15    -4159\n",
              "16    -7958\n",
              "17     7210\n",
              "18     -183\n",
              "19    11448\n",
              "20     1686\n",
              "21     5386\n",
              "22      855\n",
              "23    10530\n",
              "24     1424\n",
              "25    -5259\n",
              "26     1402\n",
              "27    -3876\n",
              "28     -735\n",
              "29    -3144\n",
              "Name: Salary, dtype: int64"
            ]
          },
          "execution_count": 15,
          "metadata": {},
          "output_type": "execute_result"
        }
      ],
      "source": [
        "residual"
      ]
    },
    {
      "cell_type": "markdown",
      "metadata": {
        "id": "8FX1kambk5D4"
      },
      "source": [
        "# Plotting the residuals"
      ]
    },
    {
      "cell_type": "code",
      "execution_count": 16,
      "metadata": {
        "colab": {
          "base_uri": "https://localhost:8080/",
          "height": 0
        },
        "id": "g2EjTdbwkaHh",
        "outputId": "ae38435c-07dc-4950-ff87-3f0ddffdcdba"
      },
      "outputs": [
        {
          "data": {
            "image/png": "[encoded data removed]",
            "text/plain": [
              "<Figure size 432x288 with 1 Axes>"
            ]
          },
          "metadata": {
            "needs_background": "light"
          },
          "output_type": "display_data"
        }
      ],
      "source": [
        "for i in range(len(residual)):\n",
        "  plt.scatter(df['YearsExperience'][i],residual[i],c=['orange'])"
      ]
    }
  ],
  "metadata": {
    "colab": {
      "collapsed_sections": [],
      "name": "Lab-1-CSE1015-Simple_Linear_Regression.ipynb",
      "provenance": []
    },
    "kernelspec": {
      "display_name": "Python 3",
      "name": "python3"
    },
    "language_info": {
      "codemirror_mode": {
        "name": "ipython",
        "version": 3
      },
      "file_extension": ".py",
      "mimetype": "text/x-python",
      "name": "python",
      "nbconvert_exporter": "python",
      "pygments_lexer": "ipython3",
      "version": "3.9.1"
    }
  },
  "nbformat": 4,
  "nbformat_minor": 0
}
