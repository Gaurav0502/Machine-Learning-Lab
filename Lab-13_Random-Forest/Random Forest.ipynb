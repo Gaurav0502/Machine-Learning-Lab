{
 "cells": [
  {
   "cell_type": "markdown",
   "id": "293dafc3",
   "metadata": {},
   "source": [
    "<ins><strong>Machine Learning Essentials : CSE1015 : Lab - 13 : Ensemble Learning using Random Forest</strong></ins>\n",
    "\n",
    "\n",
    "<ins><strong>Name:</strong></ins> Gaurav Pendharkar\n",
    "\n",
    "\n",
    "<ins><strong>Registration No.:</strong></ins> 20BAI1153"
   ]
  },
  {
   "cell_type": "markdown",
   "id": "e7af5f97",
   "metadata": {},
   "source": [
    "# Importing the required modules"
   ]
  },
  {
   "cell_type": "code",
   "execution_count": 1,
   "id": "bfb535c8",
   "metadata": {},
   "outputs": [],
   "source": [
    "# Modules for data handling in python\n",
    "import pandas as pd\n",
    "import numpy as np\n",
    "import matplotlib.pyplot as plt\n",
    "\n",
    "# Modules for machine learning\n",
    "from sklearn.ensemble import RandomForestClassifier\n",
    "from sklearn.model_selection import train_test_split"
   ]
  },
  {
   "cell_type": "markdown",
   "id": "0bc8302f",
   "metadata": {},
   "source": [
    "# Reading the dataset"
   ]
  },
  {
   "cell_type": "code",
   "execution_count": 2,
   "id": "50b65173",
   "metadata": {},
   "outputs": [],
   "source": [
    "nasa = pd.read_csv(\"./nasa.csv\")"
   ]
  },
  {
   "cell_type": "code",
   "execution_count": 3,
   "id": "a2eb5b53",
   "metadata": {},
   "outputs": [
    {
     "name": "stdout",
     "output_type": "stream",
     "text": [
      "<class 'pandas.core.frame.DataFrame'>\n",
      "RangeIndex: 4687 entries, 0 to 4686\n",
      "Data columns (total 40 columns):\n",
      " #   Column                        Non-Null Count  Dtype  \n",
      "---  ------                        --------------  -----  \n",
      " 0   Neo Reference ID              4687 non-null   int64  \n",
      " 1   Name                          4687 non-null   int64  \n",
      " 2   Absolute Magnitude            4687 non-null   float64\n",
      " 3   Est Dia in KM(min)            4687 non-null   float64\n",
      " 4   Est Dia in KM(max)            4687 non-null   float64\n",
      " 5   Est Dia in M(min)             4687 non-null   float64\n",
      " 6   Est Dia in M(max)             4687 non-null   float64\n",
      " 7   Est Dia in Miles(min)         4687 non-null   float64\n",
      " 8   Est Dia in Miles(max)         4687 non-null   float64\n",
      " 9   Est Dia in Feet(min)          4687 non-null   float64\n",
      " 10  Est Dia in Feet(max)          4687 non-null   float64\n",
      " 11  Close Approach Date           4687 non-null   object \n",
      " 12  Epoch Date Close Approach     4687 non-null   int64  \n",
      " 13  Relative Velocity km per sec  4687 non-null   float64\n",
      " 14  Relative Velocity km per hr   4687 non-null   float64\n",
      " 15  Miles per hour                4687 non-null   float64\n",
      " 16  Miss Dist.(Astronomical)      4687 non-null   float64\n",
      " 17  Miss Dist.(lunar)             4687 non-null   float64\n",
      " 18  Miss Dist.(kilometers)        4687 non-null   float64\n",
      " 19  Miss Dist.(miles)             4687 non-null   float64\n",
      " 20  Orbiting Body                 4687 non-null   object \n",
      " 21  Orbit ID                      4687 non-null   int64  \n",
      " 22  Orbit Determination Date      4687 non-null   object \n",
      " 23  Orbit Uncertainity            4687 non-null   int64  \n",
      " 24  Minimum Orbit Intersection    4687 non-null   float64\n",
      " 25  Jupiter Tisserand Invariant   4687 non-null   float64\n",
      " 26  Epoch Osculation              4687 non-null   float64\n",
      " 27  Eccentricity                  4687 non-null   float64\n",
      " 28  Semi Major Axis               4687 non-null   float64\n",
      " 29  Inclination                   4687 non-null   float64\n",
      " 30  Asc Node Longitude            4687 non-null   float64\n",
      " 31  Orbital Period                4687 non-null   float64\n",
      " 32  Perihelion Distance           4687 non-null   float64\n",
      " 33  Perihelion Arg                4687 non-null   float64\n",
      " 34  Aphelion Dist                 4687 non-null   float64\n",
      " 35  Perihelion Time               4687 non-null   float64\n",
      " 36  Mean Anomaly                  4687 non-null   float64\n",
      " 37  Mean Motion                   4687 non-null   float64\n",
      " 38  Equinox                       4687 non-null   object \n",
      " 39  Hazardous                     4687 non-null   bool   \n",
      "dtypes: bool(1), float64(30), int64(5), object(4)\n",
      "memory usage: 1.4+ MB\n"
     ]
    }
   ],
   "source": [
    "nasa.info()"
   ]
  },
  {
   "cell_type": "markdown",
   "id": "b4655f7e",
   "metadata": {},
   "source": [
    "# Dropping non-useful columns "
   ]
  },
  {
   "cell_type": "code",
   "execution_count": 4,
   "id": "b21615f9",
   "metadata": {},
   "outputs": [],
   "source": [
    "nasa = nasa.drop(list(nasa.columns)[0:2]+['Equinox','Close Approach Date','Orbit Determination Date','Orbit ID','Orbiting Body'],axis=1)"
   ]
  },
  {
   "cell_type": "markdown",
   "id": "ec0f41d8",
   "metadata": {},
   "source": [
    "# Segregation of columns"
   ]
  },
  {
   "cell_type": "code",
   "execution_count": 5,
   "id": "6073702a",
   "metadata": {},
   "outputs": [],
   "source": [
    "target = 'Hazardous'"
   ]
  },
  {
   "cell_type": "code",
   "execution_count": 6,
   "id": "9ef05e42",
   "metadata": {},
   "outputs": [],
   "source": [
    "numerical = set(nasa.columns).difference(set([target]))"
   ]
  },
  {
   "cell_type": "markdown",
   "id": "8677b76d",
   "metadata": {},
   "source": [
    "# Test-Train Split"
   ]
  },
  {
   "cell_type": "code",
   "execution_count": 7,
   "id": "f09f13f8",
   "metadata": {},
   "outputs": [],
   "source": [
    "X_train,X_test,y_train,y_test = train_test_split(nasa,\n",
    "    nasa[target],\n",
    "    test_size = 0.30,\n",
    "    train_size=0.70,\n",
    "    random_state = 0\n",
    ")"
   ]
  },
  {
   "cell_type": "code",
   "execution_count": 8,
   "id": "91e248bd",
   "metadata": {},
   "outputs": [],
   "source": [
    "X_train = X_train.drop([target],axis=1)\n",
    "X_test = X_test.drop([target],axis=1)"
   ]
  },
  {
   "cell_type": "markdown",
   "id": "1dc004fd",
   "metadata": {},
   "source": [
    "# Random Forest"
   ]
  },
  {
   "cell_type": "code",
   "execution_count": 9,
   "id": "710df3b7",
   "metadata": {},
   "outputs": [],
   "source": [
    "clf = RandomForestClassifier(random_state=0,oob_score=True)"
   ]
  },
  {
   "cell_type": "code",
   "execution_count": 10,
   "id": "082dbc25",
   "metadata": {},
   "outputs": [
    {
     "data": {
      "text/plain": [
       "RandomForestClassifier(oob_score=True, random_state=0)"
      ]
     },
     "execution_count": 10,
     "metadata": {},
     "output_type": "execute_result"
    }
   ],
   "source": [
    "clf.fit(X_train,y_train)"
   ]
  },
  {
   "cell_type": "code",
   "execution_count": 11,
   "id": "eed5340d",
   "metadata": {},
   "outputs": [
    {
     "name": "stdout",
     "output_type": "stream",
     "text": [
      "Accuracy on Train Dataset : 1.0\n",
      "Accuracy on Test Dataset : 0.9950248756218906\n"
     ]
    }
   ],
   "source": [
    "print(\"Accuracy on Train Dataset :\",clf.score(X_train, y_train))\n",
    "print(\"Accuracy on Test Dataset :\",clf.score(X_test, y_test))"
   ]
  },
  {
   "cell_type": "code",
   "execution_count": 12,
   "id": "d98c2b34",
   "metadata": {},
   "outputs": [
    {
     "data": {
      "text/plain": [
       "0.9954268292682927"
      ]
     },
     "execution_count": 12,
     "metadata": {},
     "output_type": "execute_result"
    }
   ],
   "source": [
    "clf.oob_score_"
   ]
  },
  {
   "cell_type": "markdown",
   "id": "fcdde826",
   "metadata": {},
   "source": [
    "# Exploring the hyperparameters"
   ]
  },
  {
   "cell_type": "code",
   "execution_count": 13,
   "id": "d773940e",
   "metadata": {},
   "outputs": [],
   "source": [
    "outofbagscore = []\n",
    "trainacc = []\n",
    "testacc = []\n",
    "for i in range(50,100,5):\n",
    "    for j in range(15,30,3):\n",
    "        clf = RandomForestClassifier(n_estimators=i,max_depth=j,random_state=0,oob_score=True)\n",
    "        clf.fit(X_train,y_train)\n",
    "        outofbagscore.append(clf.oob_score_)\n",
    "        trainacc.append(clf.score(X_train, y_train))\n",
    "        testacc.append(clf.score(X_test, y_test))"
   ]
  },
  {
   "cell_type": "code",
   "execution_count": 18,
   "id": "3635372d",
   "metadata": {},
   "outputs": [
    {
     "data": {
      "image/png": "[encoded data removed]",
      "text/plain": [
       "<Figure size 720x720 with 1 Axes>"
      ]
     },
     "metadata": {
      "needs_background": "light"
     },
     "output_type": "display_data"
    }
   ],
   "source": [
    "plt.figure(figsize=(10,10))\n",
    "plt.plot(range(0,len(outofbagscore)),outofbagscore,color=\"red\")\n",
    "plt.plot(range(0,len(testacc)),testacc,color=\"blue\")\n",
    "plt.plot(range(0,len(trainacc)),trainacc,color=\"green\")\n",
    "plt.xlabel(\"Exploration of hyperparameters\")\n",
    "plt.ylabel(\"Accuracy of the model on the test and train dataset and out of bag score\")\n",
    "plt.legend([\"Out of bag score\",\"Test\",\"Train\"])\n",
    "plt.show()"
   ]
  },
  {
   "cell_type": "markdown",
   "id": "9ee66beb",
   "metadata": {},
   "source": [
    "From the graph we can infer that random forest model is performing well on both train and test dataset however in an ensemble learning model we may also consider the Out of Bag Score. Since, there is no huge difference between the accuracies on test and train datasets we can choose the set of hyperparameters which give higher Out of Bag Score."
   ]
  },
  {
   "cell_type": "markdown",
   "id": "3ede23c7",
   "metadata": {},
   "source": [
    "<ins><strong>Inferences:</strong></ins>\n",
    "- The random forest model takes a shorter time to execute than a normal decision tree model.\n",
    "- The random forest model is also improving the accuracy slightly when the same dataset was used to train decision trees in a previous lab. However, we can only consider the improvement after cross validation."
   ]
  }
 ],
 "metadata": {
  "kernelspec": {
   "display_name": "Python 3 (ipykernel)",
   "language": "python",
   "name": "python3"
  },
  "language_info": {
   "codemirror_mode": {
    "name": "ipython",
    "version": 3
   },
   "file_extension": ".py",
   "mimetype": "text/x-python",
   "name": "python",
   "nbconvert_exporter": "python",
   "pygments_lexer": "ipython3",
   "version": "3.9.7"
  }
 },
 "nbformat": 4,
 "nbformat_minor": 5
}
