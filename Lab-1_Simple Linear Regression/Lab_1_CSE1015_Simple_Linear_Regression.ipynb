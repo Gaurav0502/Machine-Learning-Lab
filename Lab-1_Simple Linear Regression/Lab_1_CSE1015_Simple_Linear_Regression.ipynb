{
  "nbformat": 4,
  "nbformat_minor": 0,
  "metadata": {
    "colab": {
      "name": "Lab-1-CSE1015-Simple_Linear_Regression.ipynb",
      "provenance": [],
      "collapsed_sections": []
    },
    "kernelspec": {
      "name": "python3",
      "display_name": "Python 3"
    },
    "language_info": {
      "name": "python"
    }
  },
  "cells": [
    {
      "cell_type": "markdown",
      "source": [
        "Lab 1 : Simple Linear Regression\n",
        "\n",
        "Choose any dataset and find the following:\n",
        "\n",
        "\n",
        "1.   Regression Line.\n",
        "2.   Plotting the Regression Line.\n",
        "3.   Finding the residuals.\n",
        "4.   Plotting the residuals.\n",
        "\n",
        "Constraint: Should not use any in-built functions for Regression and Statistical parameters.\n"
      ],
      "metadata": {
        "id": "G-DaEyVMhsUv"
      }
    },
    {
      "cell_type": "code",
      "execution_count": 56,
      "metadata": {
        "id": "0bebIsbYh96c"
      },
      "outputs": [],
      "source": [
        "import math as m\n",
        "import pandas as pd\n",
        "import numpy as np"
      ]
    },
    {
      "cell_type": "code",
      "source": [
        "from google.colab import drive\n",
        "drive.mount('/content/drive')"
      ],
      "metadata": {
        "colab": {
          "base_uri": "https://localhost:8080/"
        },
        "id": "2T4W9UcAiR74",
        "outputId": "ebf93755-9f0b-4feb-9894-093d469763e0"
      },
      "execution_count": 57,
      "outputs": [
        {
          "output_type": "stream",
          "name": "stdout",
          "text": [
            "Drive already mounted at /content/drive; to attempt to forcibly remount, call drive.mount(\"/content/drive\", force_remount=True).\n"
          ]
        }
      ]
    },
    {
      "cell_type": "code",
      "source": [
        "#Reading the dataset.\n",
        "df = pd.read_csv(\"/content/drive/MyDrive/Datasets/Salary_Dataset.csv\")"
      ],
      "metadata": {
        "id": "ZKR6N7pGq7BI"
      },
      "execution_count": 58,
      "outputs": []
    },
    {
      "cell_type": "code",
      "source": [
        "df.head()"
      ],
      "metadata": {
        "colab": {
          "base_uri": "https://localhost:8080/",
          "height": 206
        },
        "id": "hxQR32QjrUCY",
        "outputId": "d1b001b7-fdcf-47ba-ad27-160ae9422ffb"
      },
      "execution_count": 59,
      "outputs": [
        {
          "output_type": "execute_result",
          "data": {
            "text/html": [
              "\n",
              "  <div id=\"df-a2a9fc75-4486-4dd2-882a-cc6cab7992f1\">\n",
              "    <div class=\"colab-df-container\">\n",
              "      <div>\n",
              "<style scoped>\n",
              "    .dataframe tbody tr th:only-of-type {\n",
              "        vertical-align: middle;\n",
              "    }\n",
              "\n",
              "    .dataframe tbody tr th {\n",
              "        vertical-align: top;\n",
              "    }\n",
              "\n",
              "    .dataframe thead th {\n",
              "        text-align: right;\n",
              "    }\n",
              "</style>\n",
              "<table border=\"1\" class=\"dataframe\">\n",
              "  <thead>\n",
              "    <tr style=\"text-align: right;\">\n",
              "      <th></th>\n",
              "      <th>YearsExperience</th>\n",
              "      <th>Salary</th>\n",
              "    </tr>\n",
              "  </thead>\n",
              "  <tbody>\n",
              "    <tr>\n",
              "      <th>0</th>\n",
              "      <td>1.1</td>\n",
              "      <td>39343</td>\n",
              "    </tr>\n",
              "    <tr>\n",
              "      <th>1</th>\n",
              "      <td>1.3</td>\n",
              "      <td>46205</td>\n",
              "    </tr>\n",
              "    <tr>\n",
              "      <th>2</th>\n",
              "      <td>1.5</td>\n",
              "      <td>37731</td>\n",
              "    </tr>\n",
              "    <tr>\n",
              "      <th>3</th>\n",
              "      <td>2.0</td>\n",
              "      <td>43525</td>\n",
              "    </tr>\n",
              "    <tr>\n",
              "      <th>4</th>\n",
              "      <td>2.2</td>\n",
              "      <td>39891</td>\n",
              "    </tr>\n",
              "  </tbody>\n",
              "</table>\n",
              "</div>\n",
              "      <button class=\"colab-df-convert\" onclick=\"convertToInteractive('df-a2a9fc75-4486-4dd2-882a-cc6cab7992f1')\"\n",
              "              title=\"Convert this dataframe to an interactive table.\"\n",
              "              style=\"display:none;\">\n",
              "        \n",
              "  <svg xmlns=\"http://www.w3.org/2000/svg\" height=\"24px\"viewBox=\"0 0 24 24\"\n",
              "       width=\"24px\">\n",
              "    <path d=\"M0 0h24v24H0V0z\" fill=\"none\"/>\n",
              "    <path d=\"M18.56 5.44l.94 2.06.94-2.06 2.06-.94-2.06-.94-.94-2.06-.94 2.06-2.06.94zm-11 1L8.5 8.5l.94-2.06 2.06-.94-2.06-.94L8.5 2.5l-.94 2.06-2.06.94zm10 10l.94 2.06.94-2.06 2.06-.94-2.06-.94-.94-2.06-.94 2.06-2.06.94z\"/><path d=\"M17.41 7.96l-1.37-1.37c-.4-.4-.92-.59-1.43-.59-.52 0-1.04.2-1.43.59L10.3 9.45l-7.72 7.72c-.78.78-.78 2.05 0 2.83L4 21.41c.39.39.9.59 1.41.59.51 0 1.02-.2 1.41-.59l7.78-7.78 2.81-2.81c.8-.78.8-2.07 0-2.86zM5.41 20L4 18.59l7.72-7.72 1.47 1.35L5.41 20z\"/>\n",
              "  </svg>\n",
              "      </button>\n",
              "      \n",
              "  <style>\n",
              "    .colab-df-container {\n",
              "      display:flex;\n",
              "      flex-wrap:wrap;\n",
              "      gap: 12px;\n",
              "    }\n",
              "\n",
              "    .colab-df-convert {\n",
              "      background-color: #E8F0FE;\n",
              "      border: none;\n",
              "      border-radius: 50%;\n",
              "      cursor: pointer;\n",
              "      display: none;\n",
              "      fill: #1967D2;\n",
              "      height: 32px;\n",
              "      padding: 0 0 0 0;\n",
              "      width: 32px;\n",
              "    }\n",
              "\n",
              "    .colab-df-convert:hover {\n",
              "      background-color: #E2EBFA;\n",
              "      box-shadow: 0px 1px 2px rgba(60, 64, 67, 0.3), 0px 1px 3px 1px rgba(60, 64, 67, 0.15);\n",
              "      fill: #174EA6;\n",
              "    }\n",
              "\n",
              "    [theme=dark] .colab-df-convert {\n",
              "      background-color: #3B4455;\n",
              "      fill: #D2E3FC;\n",
              "    }\n",
              "\n",
              "    [theme=dark] .colab-df-convert:hover {\n",
              "      background-color: #434B5C;\n",
              "      box-shadow: 0px 1px 3px 1px rgba(0, 0, 0, 0.15);\n",
              "      filter: drop-shadow(0px 1px 2px rgba(0, 0, 0, 0.3));\n",
              "      fill: #FFFFFF;\n",
              "    }\n",
              "  </style>\n",
              "\n",
              "      <script>\n",
              "        const buttonEl =\n",
              "          document.querySelector('#df-a2a9fc75-4486-4dd2-882a-cc6cab7992f1 button.colab-df-convert');\n",
              "        buttonEl.style.display =\n",
              "          google.colab.kernel.accessAllowed ? 'block' : 'none';\n",
              "\n",
              "        async function convertToInteractive(key) {\n",
              "          const element = document.querySelector('#df-a2a9fc75-4486-4dd2-882a-cc6cab7992f1');\n",
              "          const dataTable =\n",
              "            await google.colab.kernel.invokeFunction('convertToInteractive',\n",
              "                                                     [key], {});\n",
              "          if (!dataTable) return;\n",
              "\n",
              "          const docLinkHtml = 'Like what you see? Visit the ' +\n",
              "            '<a target=\"_blank\" href=https://colab.research.google.com/notebooks/data_table.ipynb>data table notebook</a>'\n",
              "            + ' to learn more about interactive tables.';\n",
              "          element.innerHTML = '';\n",
              "          dataTable['output_type'] = 'display_data';\n",
              "          await google.colab.output.renderOutput(dataTable, element);\n",
              "          const docLink = document.createElement('div');\n",
              "          docLink.innerHTML = docLinkHtml;\n",
              "          element.appendChild(docLink);\n",
              "        }\n",
              "      </script>\n",
              "    </div>\n",
              "  </div>\n",
              "  "
            ],
            "text/plain": [
              "   YearsExperience  Salary\n",
              "0              1.1   39343\n",
              "1              1.3   46205\n",
              "2              1.5   37731\n",
              "3              2.0   43525\n",
              "4              2.2   39891"
            ]
          },
          "metadata": {},
          "execution_count": 59
        }
      ]
    },
    {
      "cell_type": "markdown",
      "source": [
        "#Calculating the Regression Line"
      ],
      "metadata": {
        "id": "XFLcQBqWjFAM"
      }
    },
    {
      "cell_type": "code",
      "source": [
        "#Finding the sum of the values.\n",
        "def summation(x):\n",
        "  sm = 0\n",
        "  for i in x:\n",
        "    sm = sm + i\n",
        "  return sm"
      ],
      "metadata": {
        "id": "2NbbCqKjLDfa"
      },
      "execution_count": 60,
      "outputs": []
    },
    {
      "cell_type": "code",
      "source": [
        "#Finding the average of the values\n",
        "def average(x):\n",
        "  xbar = summation(x)/len(x)\n",
        "  return xbar"
      ],
      "metadata": {
        "id": "TBbHEo3sLTFa"
      },
      "execution_count": 61,
      "outputs": []
    },
    {
      "cell_type": "code",
      "source": [
        "X = df[\"YearsExperience\"]\n",
        "Y = df[\"Salary\"]\n",
        "Xsum = summation(X)\n",
        "Ysum = summation(Y)\n",
        "Xbar = average(X)\n",
        "Ybar = average(Y)\n",
        "X2sum = summation(X*X)\n",
        "Y2sum = summation(Y*Y)\n",
        "XYsum = summation(X*Y)"
      ],
      "metadata": {
        "id": "phWbEfFbrgZh"
      },
      "execution_count": 62,
      "outputs": []
    },
    {
      "cell_type": "code",
      "source": [
        "print(Xsum,Ysum,Xbar,Ybar,X2sum,Y2sum,XYsum)"
      ],
      "metadata": {
        "colab": {
          "base_uri": "https://localhost:8080/"
        },
        "id": "e0YQu3Znt70O",
        "outputId": "48a3a545-ae04-4c79-d7c4-eda5b6aea9e5"
      },
      "execution_count": 63,
      "outputs": [
        {
          "output_type": "stream",
          "name": "stdout",
          "text": [
            "159.4 2280090 5.3133333333333335 76003.0 1080.5 195088658122 14321961.0\n"
          ]
        }
      ]
    },
    {
      "cell_type": "code",
      "source": [
        "a = (XYsum - Xsum*Ysum/len(X))/(X2sum - Xsum**2/len(X))\n",
        "a"
      ],
      "metadata": {
        "colab": {
          "base_uri": "https://localhost:8080/"
        },
        "id": "1MLLadTnMzXJ",
        "outputId": "c5e30412-c9a3-4ca7-c7cb-f6a79bd5ca4a"
      },
      "execution_count": 64,
      "outputs": [
        {
          "output_type": "execute_result",
          "data": {
            "text/plain": [
              "9449.962321455081"
            ]
          },
          "metadata": {},
          "execution_count": 64
        }
      ]
    },
    {
      "cell_type": "code",
      "source": [
        "b = Ybar - a*Xbar"
      ],
      "metadata": {
        "id": "MojM5EG6NmxR"
      },
      "execution_count": 65,
      "outputs": []
    },
    {
      "cell_type": "markdown",
      "source": [
        "#Plotting the Regression Line"
      ],
      "metadata": {
        "id": "6-zSC076jNlt"
      }
    },
    {
      "cell_type": "code",
      "source": [
        "import matplotlib.pyplot as plt\n",
        "import numpy as np\n",
        "x = np.linspace(1,12)\n",
        "y = a*x+b\n",
        "for i in range(len(df)):\n",
        "  plt.scatter(df['YearsExperience'][i],df['Salary'][i],c=['blue'])\n",
        "plt.plot(x, y, '-r', label='y=f(x)')\n",
        "plt.title('Graph of y=f(x)')\n",
        "plt.xlabel('x', color='#1C2833')\n",
        "plt.ylabel('y', color='#1C2833')\n",
        "plt.grid()\n",
        "plt.show()"
      ],
      "metadata": {
        "colab": {
          "base_uri": "https://localhost:8080/",
          "height": 0
        },
        "id": "6VtTKw-Tt81R",
        "outputId": "742e49c8-4543-4fb9-e230-fb3d4efc01fa"
      },
      "execution_count": 66,
      "outputs": [
        {
          "output_type": "display_data",
          "data": {
            "image/png": "[encoded data removed]",
            "text/plain": [
              "<Figure size 432x288 with 1 Axes>"
            ]
          },
          "metadata": {
            "needs_background": "light"
          }
        }
      ]
    },
    {
      "cell_type": "markdown",
      "source": [
        "#Finding the residual"
      ],
      "metadata": {
        "id": "rGN8PmBYjXRU"
      }
    },
    {
      "cell_type": "code",
      "source": [
        "residual = df['Salary'].copy()\n",
        "for i in range(len(df)):\n",
        "    residual[i] = df['Salary'][i] - a*(df['YearsExperience'][i]) - b"
      ],
      "metadata": {
        "id": "-EnNcZ9kTl4Q"
      },
      "execution_count": 67,
      "outputs": []
    },
    {
      "cell_type": "code",
      "source": [
        "residual"
      ],
      "metadata": {
        "colab": {
          "base_uri": "https://localhost:8080/"
        },
        "id": "XMXg0ymhjoGi",
        "outputId": "f5fd0d20-de52-43fc-9320-930695674386"
      },
      "execution_count": 68,
      "outputs": [
        {
          "output_type": "execute_result",
          "data": {
            "text/plain": [
              "0      3155\n",
              "1      8127\n",
              "2     -2236\n",
              "3     -1167\n",
              "4     -6691\n",
              "5      3444\n",
              "6      6007\n",
              "7     -1587\n",
              "8      8412\n",
              "9     -3568\n",
              "10      570\n",
              "11    -7798\n",
              "12    -6635\n",
              "13    -7456\n",
              "14    -7206\n",
              "15    -4159\n",
              "16    -7958\n",
              "17     7210\n",
              "18     -183\n",
              "19    11448\n",
              "20     1686\n",
              "21     5386\n",
              "22      855\n",
              "23    10530\n",
              "24     1424\n",
              "25    -5259\n",
              "26     1402\n",
              "27    -3876\n",
              "28     -735\n",
              "29    -3144\n",
              "Name: Salary, dtype: int64"
            ]
          },
          "metadata": {},
          "execution_count": 68
        }
      ]
    },
    {
      "cell_type": "markdown",
      "source": [
        "#Plotting residual plots"
      ],
      "metadata": {
        "id": "8FX1kambk5D4"
      }
    },
    {
      "cell_type": "code",
      "source": [
        "for i in range(len(residual)):\n",
        "  plt.scatter(df['YearsExperience'][i],residual[i],c=['orange'])"
      ],
      "metadata": {
        "colab": {
          "base_uri": "https://localhost:8080/",
          "height": 0
        },
        "id": "g2EjTdbwkaHh",
        "outputId": "ae38435c-07dc-4950-ff87-3f0ddffdcdba"
      },
      "execution_count": 69,
      "outputs": [
        {
          "output_type": "display_data",
          "data": {
            "image/png": "[encoded data removed]",
            "text/plain": [
              "<Figure size 432x288 with 1 Axes>"
            ]
          },
          "metadata": {
            "needs_background": "light"
          }
        }
      ]
    }
  ]
}